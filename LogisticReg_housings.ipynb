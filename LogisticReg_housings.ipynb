{
 "cells": [
  {
   "cell_type": "markdown",
   "metadata": {},
   "source": [
    "# The electric consumption of houses\n",
    "\n",
    "Leveraging the dataset located here:\n",
    "https://www.eia.gov/consumption/residential/data/2009/index.php?view=microdata, I built a model that predicts the electric\n",
    "consumption of housings. The electric\n",
    "consumption is located in the KWH field.\n",
    "\n",
    "The notebook consists of 3 parts:\n",
    "\n",
    "1. Data Engineering\n",
    "2. Machine Learning Solution\n",
    "3. Analysing the results"
   ]
  },
  {
   "cell_type": "markdown",
   "metadata": {},
   "source": [
    "### Packages:\n",
    "Import packages that are used throughout the code:"
   ]
  },
  {
   "cell_type": "code",
   "execution_count": 1,
   "metadata": {},
   "outputs": [],
   "source": [
    "import pandas as pd\n",
    "from pandas.api.types import is_string_dtype\n",
    "from sklearn.model_selection import train_test_split\n",
    "from sklearn import model_selection\n",
    "from sklearn.linear_model import LinearRegression\n",
    "from sklearn.model_selection import cross_val_score\n",
    "from sklearn.model_selection import cross_val_predict\n",
    "\n",
    "import matplotlib.pyplot as plt\n",
    "%matplotlib inline"
   ]
  },
  {
   "cell_type": "markdown",
   "metadata": {},
   "source": [
    "## Part 1: Data Engineering\n",
    "\n",
    "The important parts and steps are:\n",
    "\n",
    "1. loading the data.\n",
    "2. seeing what's inside\n",
    "3. preprocess the data: \n",
    "    3.1. treat NaN values\n",
    "    3.2. treat non-numeric values\n",
    "4. prepare the preprocessed data for the machine learning task:\n",
    "    4.1. selecting the features(independent variables) and the target (dependent variable)\n",
    "    4.2. splitting the data for train-validation and test sets.\n"
   ]
  },
  {
   "cell_type": "markdown",
   "metadata": {},
   "source": [
    "### Step 1.1. Loading the data:"
   ]
  },
  {
   "cell_type": "code",
   "execution_count": 2,
   "metadata": {},
   "outputs": [
    {
     "name": "stderr",
     "output_type": "stream",
     "text": [
      "/Users/roghaiyeh/opt/anaconda3/lib/python3.6/site-packages/IPython/core/interactiveshell.py:3058: DtypeWarning: Columns (717,718) have mixed types. Specify dtype option on import or set low_memory=False.\n",
      "  interactivity=interactivity, compiler=compiler, result=result)\n"
     ]
    }
   ],
   "source": [
    "\n",
    "data = pd.read_csv(\"/Users/roghaiyeh/Desktop/Work/zesty.ai/recs2009_public.csv\")"
   ]
  },
  {
   "cell_type": "markdown",
   "metadata": {},
   "source": [
    "### Step 1.2. seeing what's inside:"
   ]
  },
  {
   "cell_type": "code",
   "execution_count": 3,
   "metadata": {},
   "outputs": [
    {
     "data": {
      "text/html": [
       "<div>\n",
       "<style scoped>\n",
       "    .dataframe tbody tr th:only-of-type {\n",
       "        vertical-align: middle;\n",
       "    }\n",
       "\n",
       "    .dataframe tbody tr th {\n",
       "        vertical-align: top;\n",
       "    }\n",
       "\n",
       "    .dataframe thead th {\n",
       "        text-align: right;\n",
       "    }\n",
       "</style>\n",
       "<table border=\"1\" class=\"dataframe\">\n",
       "  <thead>\n",
       "    <tr style=\"text-align: right;\">\n",
       "      <th></th>\n",
       "      <th>DOEID</th>\n",
       "      <th>REGIONC</th>\n",
       "      <th>DIVISION</th>\n",
       "      <th>REPORTABLE_DOMAIN</th>\n",
       "      <th>TYPEHUQ</th>\n",
       "      <th>NWEIGHT</th>\n",
       "      <th>HDD65</th>\n",
       "      <th>CDD65</th>\n",
       "      <th>HDD30YR</th>\n",
       "      <th>CDD30YR</th>\n",
       "      <th>...</th>\n",
       "      <th>SCALEKER</th>\n",
       "      <th>IECC_Climate_Pub</th>\n",
       "      <th>HDD50</th>\n",
       "      <th>CDD80</th>\n",
       "      <th>GND_HDD65</th>\n",
       "      <th>WSF</th>\n",
       "      <th>OA_LAT</th>\n",
       "      <th>GWT</th>\n",
       "      <th>DesignDBT99</th>\n",
       "      <th>DesignDBT1</th>\n",
       "    </tr>\n",
       "  </thead>\n",
       "  <tbody>\n",
       "    <tr>\n",
       "      <td>0</td>\n",
       "      <td>1</td>\n",
       "      <td>2</td>\n",
       "      <td>4</td>\n",
       "      <td>12</td>\n",
       "      <td>2</td>\n",
       "      <td>2471.68</td>\n",
       "      <td>4742</td>\n",
       "      <td>1080</td>\n",
       "      <td>4953</td>\n",
       "      <td>1271</td>\n",
       "      <td>...</td>\n",
       "      <td>-2</td>\n",
       "      <td>4A</td>\n",
       "      <td>2117</td>\n",
       "      <td>56</td>\n",
       "      <td>4250</td>\n",
       "      <td>0.48</td>\n",
       "      <td>6</td>\n",
       "      <td>56</td>\n",
       "      <td>9</td>\n",
       "      <td>96</td>\n",
       "    </tr>\n",
       "    <tr>\n",
       "      <td>1</td>\n",
       "      <td>2</td>\n",
       "      <td>4</td>\n",
       "      <td>10</td>\n",
       "      <td>26</td>\n",
       "      <td>2</td>\n",
       "      <td>8599.17</td>\n",
       "      <td>2662</td>\n",
       "      <td>199</td>\n",
       "      <td>2688</td>\n",
       "      <td>143</td>\n",
       "      <td>...</td>\n",
       "      <td>-2</td>\n",
       "      <td>3C</td>\n",
       "      <td>62</td>\n",
       "      <td>26</td>\n",
       "      <td>2393</td>\n",
       "      <td>0.61</td>\n",
       "      <td>0</td>\n",
       "      <td>64</td>\n",
       "      <td>38</td>\n",
       "      <td>73</td>\n",
       "    </tr>\n",
       "    <tr>\n",
       "      <td>2</td>\n",
       "      <td>3</td>\n",
       "      <td>1</td>\n",
       "      <td>1</td>\n",
       "      <td>1</td>\n",
       "      <td>5</td>\n",
       "      <td>8969.92</td>\n",
       "      <td>6233</td>\n",
       "      <td>505</td>\n",
       "      <td>5741</td>\n",
       "      <td>829</td>\n",
       "      <td>...</td>\n",
       "      <td>-2</td>\n",
       "      <td>5A</td>\n",
       "      <td>2346</td>\n",
       "      <td>49</td>\n",
       "      <td>5654</td>\n",
       "      <td>0.48</td>\n",
       "      <td>3</td>\n",
       "      <td>52</td>\n",
       "      <td>12</td>\n",
       "      <td>88</td>\n",
       "    </tr>\n",
       "    <tr>\n",
       "      <td>3</td>\n",
       "      <td>4</td>\n",
       "      <td>2</td>\n",
       "      <td>3</td>\n",
       "      <td>7</td>\n",
       "      <td>2</td>\n",
       "      <td>18003.64</td>\n",
       "      <td>6034</td>\n",
       "      <td>672</td>\n",
       "      <td>5781</td>\n",
       "      <td>868</td>\n",
       "      <td>...</td>\n",
       "      <td>-2</td>\n",
       "      <td>5A</td>\n",
       "      <td>2746</td>\n",
       "      <td>0</td>\n",
       "      <td>4941</td>\n",
       "      <td>0.55</td>\n",
       "      <td>4</td>\n",
       "      <td>55</td>\n",
       "      <td>7</td>\n",
       "      <td>87</td>\n",
       "    </tr>\n",
       "    <tr>\n",
       "      <td>4</td>\n",
       "      <td>5</td>\n",
       "      <td>1</td>\n",
       "      <td>1</td>\n",
       "      <td>1</td>\n",
       "      <td>3</td>\n",
       "      <td>5999.61</td>\n",
       "      <td>5388</td>\n",
       "      <td>702</td>\n",
       "      <td>5313</td>\n",
       "      <td>797</td>\n",
       "      <td>...</td>\n",
       "      <td>-2</td>\n",
       "      <td>5A</td>\n",
       "      <td>2251</td>\n",
       "      <td>0</td>\n",
       "      <td>5426</td>\n",
       "      <td>0.61</td>\n",
       "      <td>4</td>\n",
       "      <td>50</td>\n",
       "      <td>13</td>\n",
       "      <td>90</td>\n",
       "    </tr>\n",
       "    <tr>\n",
       "      <td>5</td>\n",
       "      <td>6</td>\n",
       "      <td>2</td>\n",
       "      <td>4</td>\n",
       "      <td>10</td>\n",
       "      <td>2</td>\n",
       "      <td>4232.49</td>\n",
       "      <td>8866</td>\n",
       "      <td>270</td>\n",
       "      <td>8708</td>\n",
       "      <td>436</td>\n",
       "      <td>...</td>\n",
       "      <td>-2</td>\n",
       "      <td>6A-6B</td>\n",
       "      <td>5219</td>\n",
       "      <td>3</td>\n",
       "      <td>8420</td>\n",
       "      <td>0.58</td>\n",
       "      <td>0</td>\n",
       "      <td>49</td>\n",
       "      <td>-9</td>\n",
       "      <td>84</td>\n",
       "    </tr>\n",
       "    <tr>\n",
       "      <td>6</td>\n",
       "      <td>7</td>\n",
       "      <td>1</td>\n",
       "      <td>2</td>\n",
       "      <td>3</td>\n",
       "      <td>2</td>\n",
       "      <td>7862.34</td>\n",
       "      <td>5213</td>\n",
       "      <td>749</td>\n",
       "      <td>5355</td>\n",
       "      <td>796</td>\n",
       "      <td>...</td>\n",
       "      <td>-2</td>\n",
       "      <td>4A</td>\n",
       "      <td>2133</td>\n",
       "      <td>25</td>\n",
       "      <td>4550</td>\n",
       "      <td>0.51</td>\n",
       "      <td>4</td>\n",
       "      <td>53</td>\n",
       "      <td>14</td>\n",
       "      <td>86</td>\n",
       "    </tr>\n",
       "    <tr>\n",
       "      <td>7</td>\n",
       "      <td>8</td>\n",
       "      <td>3</td>\n",
       "      <td>5</td>\n",
       "      <td>17</td>\n",
       "      <td>2</td>\n",
       "      <td>6297.04</td>\n",
       "      <td>1086</td>\n",
       "      <td>2647</td>\n",
       "      <td>1070</td>\n",
       "      <td>2554</td>\n",
       "      <td>...</td>\n",
       "      <td>-2</td>\n",
       "      <td>1A-2A</td>\n",
       "      <td>129</td>\n",
       "      <td>69</td>\n",
       "      <td>148</td>\n",
       "      <td>0.35</td>\n",
       "      <td>21</td>\n",
       "      <td>70</td>\n",
       "      <td>43</td>\n",
       "      <td>95</td>\n",
       "    </tr>\n",
       "    <tr>\n",
       "      <td>8</td>\n",
       "      <td>9</td>\n",
       "      <td>1</td>\n",
       "      <td>2</td>\n",
       "      <td>5</td>\n",
       "      <td>3</td>\n",
       "      <td>12156.72</td>\n",
       "      <td>4826</td>\n",
       "      <td>1027</td>\n",
       "      <td>5381</td>\n",
       "      <td>912</td>\n",
       "      <td>...</td>\n",
       "      <td>-2</td>\n",
       "      <td>4A</td>\n",
       "      <td>2367</td>\n",
       "      <td>35</td>\n",
       "      <td>4670</td>\n",
       "      <td>0.47</td>\n",
       "      <td>5</td>\n",
       "      <td>55</td>\n",
       "      <td>16</td>\n",
       "      <td>90</td>\n",
       "    </tr>\n",
       "    <tr>\n",
       "      <td>9</td>\n",
       "      <td>10</td>\n",
       "      <td>2</td>\n",
       "      <td>4</td>\n",
       "      <td>12</td>\n",
       "      <td>2</td>\n",
       "      <td>3242.22</td>\n",
       "      <td>4687</td>\n",
       "      <td>1205</td>\n",
       "      <td>4755</td>\n",
       "      <td>1467</td>\n",
       "      <td>...</td>\n",
       "      <td>-2</td>\n",
       "      <td>4A</td>\n",
       "      <td>2024</td>\n",
       "      <td>67</td>\n",
       "      <td>4345</td>\n",
       "      <td>0.47</td>\n",
       "      <td>6</td>\n",
       "      <td>58</td>\n",
       "      <td>10</td>\n",
       "      <td>89</td>\n",
       "    </tr>\n",
       "  </tbody>\n",
       "</table>\n",
       "<p>10 rows × 940 columns</p>\n",
       "</div>"
      ],
      "text/plain": [
       "   DOEID  REGIONC  DIVISION  REPORTABLE_DOMAIN  TYPEHUQ   NWEIGHT  HDD65  \\\n",
       "0      1        2         4                 12        2   2471.68   4742   \n",
       "1      2        4        10                 26        2   8599.17   2662   \n",
       "2      3        1         1                  1        5   8969.92   6233   \n",
       "3      4        2         3                  7        2  18003.64   6034   \n",
       "4      5        1         1                  1        3   5999.61   5388   \n",
       "5      6        2         4                 10        2   4232.49   8866   \n",
       "6      7        1         2                  3        2   7862.34   5213   \n",
       "7      8        3         5                 17        2   6297.04   1086   \n",
       "8      9        1         2                  5        3  12156.72   4826   \n",
       "9     10        2         4                 12        2   3242.22   4687   \n",
       "\n",
       "   CDD65  HDD30YR  CDD30YR  ...  SCALEKER  IECC_Climate_Pub HDD50 CDD80  \\\n",
       "0   1080     4953     1271  ...        -2                4A  2117    56   \n",
       "1    199     2688      143  ...        -2                3C    62    26   \n",
       "2    505     5741      829  ...        -2                5A  2346    49   \n",
       "3    672     5781      868  ...        -2                5A  2746     0   \n",
       "4    702     5313      797  ...        -2                5A  2251     0   \n",
       "5    270     8708      436  ...        -2             6A-6B  5219     3   \n",
       "6    749     5355      796  ...        -2                4A  2133    25   \n",
       "7   2647     1070     2554  ...        -2             1A-2A   129    69   \n",
       "8   1027     5381      912  ...        -2                4A  2367    35   \n",
       "9   1205     4755     1467  ...        -2                4A  2024    67   \n",
       "\n",
       "   GND_HDD65   WSF  OA_LAT  GWT  DesignDBT99  DesignDBT1  \n",
       "0       4250  0.48       6   56            9          96  \n",
       "1       2393  0.61       0   64           38          73  \n",
       "2       5654  0.48       3   52           12          88  \n",
       "3       4941  0.55       4   55            7          87  \n",
       "4       5426  0.61       4   50           13          90  \n",
       "5       8420  0.58       0   49           -9          84  \n",
       "6       4550  0.51       4   53           14          86  \n",
       "7        148  0.35      21   70           43          95  \n",
       "8       4670  0.47       5   55           16          90  \n",
       "9       4345  0.47       6   58           10          89  \n",
       "\n",
       "[10 rows x 940 columns]"
      ]
     },
     "execution_count": 3,
     "metadata": {},
     "output_type": "execute_result"
    }
   ],
   "source": [
    "data.head(10)"
   ]
  },
  {
   "cell_type": "code",
   "execution_count": 4,
   "metadata": {},
   "outputs": [
    {
     "data": {
      "text/plain": [
       "(12083, 940)"
      ]
     },
     "execution_count": 4,
     "metadata": {},
     "output_type": "execute_result"
    }
   ],
   "source": [
    "data.shape"
   ]
  },
  {
   "cell_type": "markdown",
   "metadata": {},
   "source": [
    "### Step 1.3. preprocess the data\n",
    "Preprocessing the data is an important step before starting any machine learning task because if the data is not clean or it's not understandable for the machine learning model, its not possible to design an accurate machine learning model.\n",
    "My first step to preprocess the data is to look for the NaN values and treat them.\n",
    "Then, I'll look for the categorical features."
   ]
  },
  {
   "cell_type": "markdown",
   "metadata": {},
   "source": [
    "### Step 1.3.1. treat NaN values:\n",
    "First check for NaN values."
   ]
  },
  {
   "cell_type": "code",
   "execution_count": 5,
   "metadata": {},
   "outputs": [
    {
     "data": {
      "text/plain": [
       "0"
      ]
     },
     "execution_count": 5,
     "metadata": {},
     "output_type": "execute_result"
    }
   ],
   "source": [
    "# check for NaN values\n",
    "df = data.copy()\n",
    "NANs_number = df.isna().sum(axis = 0)\n",
    "NANs_number.max()\n",
    "# a solution if there was NaN values\n",
    "# for c in df.head(): \n",
    "#     df[c] = df[c].fillna(value=df[c].mean())"
   ]
  },
  {
   "cell_type": "markdown",
   "metadata": {},
   "source": [
    "There is no NaN values and data is clean from this point of view"
   ]
  },
  {
   "cell_type": "markdown",
   "metadata": {},
   "source": [
    "### Step 1.3.2. treat non-numeric values (categorical features):\n",
    "When I looked at the data above, I realized that there are some values in data that are not numeric (like column \"IECC_Climate_Pub\"). So I find them and then look at them to find the best way to encode them to numeric values because machine learning systems can only handle numeric values in the features."
   ]
  },
  {
   "cell_type": "code",
   "execution_count": 6,
   "metadata": {},
   "outputs": [
    {
     "data": {
      "text/plain": [
       "['METROMICRO', 'UR', 'NOCRCASH', 'NKRGALNC', 'IECC_Climate_Pub']"
      ]
     },
     "execution_count": 6,
     "metadata": {},
     "output_type": "execute_result"
    }
   ],
   "source": [
    "# find non-numeric columns\n",
    "heads = data.head()\n",
    "str_cols = []\n",
    "for i in heads:\n",
    "    if is_string_dtype(data[i]):\n",
    "        str_cols.append(i)\n",
    "str_cols"
   ]
  },
  {
   "cell_type": "code",
   "execution_count": 7,
   "metadata": {},
   "outputs": [
    {
     "name": "stdout",
     "output_type": "stream",
     "text": [
      "METROMICRO ['METRO' 'MICRO' 'NONE']\n",
      "UR ['U' 'R']\n",
      "NOCRCASH [-2 1 6 15 4 '-2' '1' '20' '.' '12' '4' '10' '3' '24' '55' '6' 8 28 5 55 3\n",
      " 16 2 20 10 24 40 12 25]\n",
      "NKRGALNC [-2 1 5 10 '-2' '10' '15' '1' '8' '.' '5' '3' '2' '77' 30 3 15 8 55 2 20]\n",
      "IECC_Climate_Pub ['4A' '3C' '5A' '6A-6B' '1A-2A' '3B-4B' '3A' '5B-5C' '7A-7B-7AK-8AK' '2B'\n",
      " '4C']\n"
     ]
    }
   ],
   "source": [
    "# see values in non-numeric columns\n",
    "uniquesMETROMICRO = df[\"METROMICRO\"].unique()\n",
    "uniquesUR = df[\"UR\"].unique()\n",
    "uniquesNOCRCASH = df[\"NOCRCASH\"].unique()\n",
    "uniquesNKRGALNC = df[\"NKRGALNC\"].unique()\n",
    "uniquesIECC_Climate_Pub = df[\"IECC_Climate_Pub\"].unique()\n",
    "\n",
    "print(\"METROMICRO\",uniquesMETROMICRO)\n",
    "print(\"UR\",uniquesUR)\n",
    "print(\"NOCRCASH\",uniquesNOCRCASH)\n",
    "print(\"NKRGALNC\",uniquesNKRGALNC)\n",
    "print(\"IECC_Climate_Pub\",uniquesIECC_Climate_Pub)\n"
   ]
  },
  {
   "cell_type": "code",
   "execution_count": 8,
   "metadata": {},
   "outputs": [],
   "source": [
    "# write a function to encode string values to numbers\n",
    "def encode(df, uniques, colname):\n",
    "    \"\"\"\n",
    "    @param df pandas DataFrame\n",
    "    @param colname colname to encode \n",
    "    @return a DataFrame with encoding\n",
    "    \"\"\"\n",
    "    k = 0\n",
    "    d = df[colname]\n",
    "    for j in uniques:\n",
    "        d[d == j] = k\n",
    "        k +=1\n",
    "    df[colname] = d\n",
    "    return df"
   ]
  },
  {
   "cell_type": "code",
   "execution_count": 9,
   "metadata": {},
   "outputs": [
    {
     "name": "stderr",
     "output_type": "stream",
     "text": [
      "/Users/roghaiyeh/opt/anaconda3/lib/python3.6/site-packages/ipykernel_launcher.py:11: SettingWithCopyWarning: \n",
      "A value is trying to be set on a copy of a slice from a DataFrame\n",
      "\n",
      "See the caveats in the documentation: http://pandas.pydata.org/pandas-docs/stable/user_guide/indexing.html#returning-a-view-versus-a-copy\n",
      "  # This is added back by InteractiveShellApp.init_path()\n",
      "/Users/roghaiyeh/opt/anaconda3/lib/python3.6/site-packages/pandas/core/ops/__init__.py:1115: FutureWarning: elementwise comparison failed; returning scalar instead, but in the future will perform elementwise comparison\n",
      "  result = method(y)\n"
     ]
    }
   ],
   "source": [
    "\n",
    "# convert non-numeric columns to numeric ones\n",
    "df = encode(df, uniquesMETROMICRO, \"METROMICRO\")\n",
    "df = encode(df, uniquesUR, \"UR\")\n",
    "df = encode(df, uniquesIECC_Climate_Pub, \"IECC_Climate_Pub\")\n",
    "df[df.eq('.').any(1)] = 0 # some zeros were entered as '.' in the database\n",
    "# df[df == '.'] = 0\n",
    "df['NOCRCASH'] = pd.to_numeric(df['NOCRCASH'])\n",
    "df['NKRGALNC'] = pd.to_numeric(df['NKRGALNC'])"
   ]
  },
  {
   "cell_type": "markdown",
   "metadata": {},
   "source": [
    "### Step 4. Prepare the preprocessed data for the machine learning task:\n",
    "First I select all the features(independent variables) and put them in matrix X. I put the target (dependent variable) which is the consumption in Y .\n",
    "Then I split the data for train-validation and test sets."
   ]
  },
  {
   "cell_type": "code",
   "execution_count": 10,
   "metadata": {},
   "outputs": [],
   "source": [
    "# separete features and targets\n",
    "Y = df.loc[:, df.columns == 'KWH']\n",
    "X = df.loc[:, df.columns != 'KWH']\n"
   ]
  },
  {
   "cell_type": "code",
   "execution_count": 11,
   "metadata": {},
   "outputs": [],
   "source": [
    "# separete train-validation and test data\n",
    "train_x, test_x, train_y, test_y = train_test_split(X, Y, test_size=0.1, random_state=0)\n"
   ]
  },
  {
   "cell_type": "markdown",
   "metadata": {},
   "source": [
    "## Part 2: Machine Learning Solution\n",
    "\n",
    "Now that the data is ready, I use it to train a machine learning model. Since the target is a continous value, this is a regression task. So, I first start with the most straightforward (and simplest) algorithm, linear regression.\n",
    "I use 10-fold cross validation to make sure of a good level of bias-variance trade-off.\n"
   ]
  },
  {
   "cell_type": "code",
   "execution_count": 12,
   "metadata": {},
   "outputs": [],
   "source": [
    "# LinearRegression model using k-fold cross validation \n",
    "kfold = model_selection.KFold(n_splits=10, random_state=7)\n",
    "model = LinearRegression()\n",
    "resultsMAE = cross_val_score(model, train_x, train_y, cv=kfold, n_jobs=-1, scoring='neg_mean_absolute_error')\n",
    "resultsMSE = cross_val_score(model, train_x, train_y, cv=kfold, n_jobs=-1, scoring='neg_mean_squared_error')\n",
    "resultsR2 = cross_val_score(model, train_x, train_y, cv=kfold, n_jobs=-1, scoring='r2')\n"
   ]
  },
  {
   "cell_type": "markdown",
   "metadata": {},
   "source": [
    "After training the model, I check its performance using some well-known regression performance metrics:\n",
    "1. MAE (Mean Absolute Error): A value of 0 indicates no error or perfect predictions.\n",
    "2. MSE (Mean Squared Error): A value of 0 indicates no error or perfect predictions.\n",
    "3. R^2 (R Squared): a value between 0 and 1 for no-fit and perfect fit respectively."
   ]
  },
  {
   "cell_type": "code",
   "execution_count": 13,
   "metadata": {},
   "outputs": [
    {
     "name": "stdout",
     "output_type": "stream",
     "text": [
      "MAE: mean = -0.004432245784834938 std = 9.978133790879315e-05\n",
      "MSE: mean = -4.905806702756422e-05 std = 3.279185964122445e-05\n",
      "R2: mean = 0.9999999999991813 std = 4.908392297308435e-13\n"
     ]
    }
   ],
   "source": [
    "print(\"MAE: mean =\" ,resultsMAE.mean(),\", std =\", resultsMAE.std())\n",
    "print(\"MSE: mean =\" ,resultsMSE.mean(),\", std =\", resultsMSE.std())\n",
    "print(\"R2: mean =\" ,resultsR2.mean(),\", std =\", resultsR2.std())"
   ]
  },
  {
   "cell_type": "markdown",
   "metadata": {},
   "source": [
    "## Part 3: Analysing the results\n",
    "Low values of the MAE and MSE (close to zero), and high value of R^2 (close to one) indicate that the model makes a very good prediction of the consumption of the houses based on their properties.\n",
    "To make sure about the variance of the model, I test it again with an unseen part of data and plot the predictions as below:"
   ]
  },
  {
   "cell_type": "code",
   "execution_count": 14,
   "metadata": {},
   "outputs": [
    {
     "name": "stderr",
     "output_type": "stream",
     "text": [
      "/Users/roghaiyeh/opt/anaconda3/lib/python3.6/site-packages/sklearn/model_selection/_split.py:1978: FutureWarning: The default value of cv will change from 3 to 5 in version 0.22. Specify it explicitly to silence this warning.\n",
      "  warnings.warn(CV_WARNING, FutureWarning)\n"
     ]
    },
    {
     "data": {
      "image/png": "[encoded data removed]",
      "text/plain": [
       "<Figure size 1152x720 with 1 Axes>"
      ]
     },
     "metadata": {
      "needs_background": "light"
     },
     "output_type": "display_data"
    }
   ],
   "source": [
    "# Test model with unseen data (test data)\n",
    "y_pred = cross_val_predict(model, test_x, test_y)\n",
    "\n",
    "df = pd.DataFrame({'Actual': test_y.values.flatten(), 'Predicted': y_pred.flatten()})\n",
    "df1 = df.head(50)\n",
    "df1.plot(kind='bar',figsize=(16,10))\n",
    "plt.grid(which='major', linestyle='-', linewidth='0.5', color='green')\n",
    "plt.grid(which='minor', linestyle=':', linewidth='0.5', color='black')\n",
    "plt.show()"
   ]
  },
  {
   "cell_type": "markdown",
   "metadata": {},
   "source": [
    "After testing the model and plotting the values of prediction and the actual values of the consumption, I see the high performance of this model in making the prediction. Therefore, there is no need to use more complicated machine learning models like deep neural networks.\n",
    "If the model was not good enough, I would first look at the features seperately to try to figure out the most relevent ones and the next step would be using more sophisticated models like SVMs or ensembles of classifiers or deep neural networks."
   ]
  },
  {
   "cell_type": "code",
   "execution_count": null,
   "metadata": {},
   "outputs": [],
   "source": []
  }
 ],
 "metadata": {
  "kernelspec": {
   "display_name": "Python 3",
   "language": "python",
   "name": "python3"
  },
  "language_info": {
   "codemirror_mode": {
    "name": "ipython",
    "version": 3
   },
   "file_extension": ".py",
   "mimetype": "text/x-python",
   "name": "python",
   "nbconvert_exporter": "python",
   "pygments_lexer": "ipython3",
   "version": "3.6.9"
  }
 },
 "nbformat": 4,
 "nbformat_minor": 4
}
